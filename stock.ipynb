{
 "cells": [
  {
   "cell_type": "code",
   "execution_count": 1,
   "metadata": {},
   "outputs": [],
   "source": [
    "# Dependencies \n",
    "import pandas as pd"
   ]
  },
  {
   "cell_type": "code",
   "execution_count": 2,
   "metadata": {},
   "outputs": [
    {
     "data": {
      "text/html": [
       "<div>\n",
       "<style scoped>\n",
       "    .dataframe tbody tr th:only-of-type {\n",
       "        vertical-align: middle;\n",
       "    }\n",
       "\n",
       "    .dataframe tbody tr th {\n",
       "        vertical-align: top;\n",
       "    }\n",
       "\n",
       "    .dataframe thead th {\n",
       "        text-align: right;\n",
       "    }\n",
       "</style>\n",
       "<table border=\"1\" class=\"dataframe\">\n",
       "  <thead>\n",
       "    <tr style=\"text-align: right;\">\n",
       "      <th></th>\n",
       "      <th>Company</th>\n",
       "      <th>Date</th>\n",
       "      <th>Close/Last</th>\n",
       "      <th>Volume</th>\n",
       "      <th>Open</th>\n",
       "      <th>High</th>\n",
       "      <th>Low</th>\n",
       "    </tr>\n",
       "  </thead>\n",
       "  <tbody>\n",
       "    <tr>\n",
       "      <th>0</th>\n",
       "      <td>AAPL</td>\n",
       "      <td>07/17/2023</td>\n",
       "      <td>$193.99</td>\n",
       "      <td>50520160</td>\n",
       "      <td>$191.90</td>\n",
       "      <td>$194.32</td>\n",
       "      <td>$191.81</td>\n",
       "    </tr>\n",
       "    <tr>\n",
       "      <th>1</th>\n",
       "      <td>AAPL</td>\n",
       "      <td>07/14/2023</td>\n",
       "      <td>$190.69</td>\n",
       "      <td>41616240</td>\n",
       "      <td>$190.23</td>\n",
       "      <td>$191.1799</td>\n",
       "      <td>$189.63</td>\n",
       "    </tr>\n",
       "    <tr>\n",
       "      <th>2</th>\n",
       "      <td>AAPL</td>\n",
       "      <td>07/13/2023</td>\n",
       "      <td>$190.54</td>\n",
       "      <td>41342340</td>\n",
       "      <td>$190.50</td>\n",
       "      <td>$191.19</td>\n",
       "      <td>$189.78</td>\n",
       "    </tr>\n",
       "    <tr>\n",
       "      <th>3</th>\n",
       "      <td>AAPL</td>\n",
       "      <td>07-12-2023</td>\n",
       "      <td>$189.77</td>\n",
       "      <td>60750250</td>\n",
       "      <td>$189.68</td>\n",
       "      <td>$191.70</td>\n",
       "      <td>$188.47</td>\n",
       "    </tr>\n",
       "    <tr>\n",
       "      <th>4</th>\n",
       "      <td>AAPL</td>\n",
       "      <td>07-11-2023</td>\n",
       "      <td>$188.08</td>\n",
       "      <td>46638120</td>\n",
       "      <td>$189.16</td>\n",
       "      <td>$189.30</td>\n",
       "      <td>$186.60</td>\n",
       "    </tr>\n",
       "  </tbody>\n",
       "</table>\n",
       "</div>"
      ],
      "text/plain": [
       "  Company        Date Close/Last    Volume     Open       High      Low\n",
       "0    AAPL  07/17/2023    $193.99  50520160  $191.90    $194.32  $191.81\n",
       "1    AAPL  07/14/2023    $190.69  41616240  $190.23  $191.1799  $189.63\n",
       "2    AAPL  07/13/2023    $190.54  41342340  $190.50    $191.19  $189.78\n",
       "3    AAPL  07-12-2023    $189.77  60750250  $189.68    $191.70  $188.47\n",
       "4    AAPL  07-11-2023    $188.08  46638120  $189.16    $189.30  $186.60"
      ]
     },
     "execution_count": 2,
     "metadata": {},
     "output_type": "execute_result"
    }
   ],
   "source": [
    "# Read in the stock data\n",
    "stock_df = pd.read_csv(\"Resources/data.csv\")\n",
    "stock_df.head(5)"
   ]
  },
  {
   "cell_type": "code",
   "execution_count": 3,
   "metadata": {},
   "outputs": [
    {
     "data": {
      "text/html": [
       "<div>\n",
       "<style scoped>\n",
       "    .dataframe tbody tr th:only-of-type {\n",
       "        vertical-align: middle;\n",
       "    }\n",
       "\n",
       "    .dataframe tbody tr th {\n",
       "        vertical-align: top;\n",
       "    }\n",
       "\n",
       "    .dataframe thead th {\n",
       "        text-align: right;\n",
       "    }\n",
       "</style>\n",
       "<table border=\"1\" class=\"dataframe\">\n",
       "  <thead>\n",
       "    <tr style=\"text-align: right;\">\n",
       "      <th></th>\n",
       "      <th>Company</th>\n",
       "      <th>Date</th>\n",
       "      <th>Close/Last</th>\n",
       "      <th>Volume</th>\n",
       "      <th>Open</th>\n",
       "      <th>High</th>\n",
       "      <th>Low</th>\n",
       "    </tr>\n",
       "  </thead>\n",
       "  <tbody>\n",
       "    <tr>\n",
       "      <th>0</th>\n",
       "      <td>AAPL</td>\n",
       "      <td>07/17/2023</td>\n",
       "      <td>193.99</td>\n",
       "      <td>50520160</td>\n",
       "      <td>191.90</td>\n",
       "      <td>194.32</td>\n",
       "      <td>191.81</td>\n",
       "    </tr>\n",
       "    <tr>\n",
       "      <th>1</th>\n",
       "      <td>AAPL</td>\n",
       "      <td>07/14/2023</td>\n",
       "      <td>190.69</td>\n",
       "      <td>41616240</td>\n",
       "      <td>190.23</td>\n",
       "      <td>191.1799</td>\n",
       "      <td>189.63</td>\n",
       "    </tr>\n",
       "    <tr>\n",
       "      <th>2</th>\n",
       "      <td>AAPL</td>\n",
       "      <td>07/13/2023</td>\n",
       "      <td>190.54</td>\n",
       "      <td>41342340</td>\n",
       "      <td>190.50</td>\n",
       "      <td>191.19</td>\n",
       "      <td>189.78</td>\n",
       "    </tr>\n",
       "    <tr>\n",
       "      <th>3</th>\n",
       "      <td>AAPL</td>\n",
       "      <td>07-12-2023</td>\n",
       "      <td>189.77</td>\n",
       "      <td>60750250</td>\n",
       "      <td>189.68</td>\n",
       "      <td>191.70</td>\n",
       "      <td>188.47</td>\n",
       "    </tr>\n",
       "    <tr>\n",
       "      <th>4</th>\n",
       "      <td>AAPL</td>\n",
       "      <td>07-11-2023</td>\n",
       "      <td>188.08</td>\n",
       "      <td>46638120</td>\n",
       "      <td>189.16</td>\n",
       "      <td>189.30</td>\n",
       "      <td>186.60</td>\n",
       "    </tr>\n",
       "  </tbody>\n",
       "</table>\n",
       "</div>"
      ],
      "text/plain": [
       "  Company        Date Close/Last    Volume     Open       High      Low\n",
       "0    AAPL  07/17/2023     193.99  50520160   191.90     194.32   191.81\n",
       "1    AAPL  07/14/2023     190.69  41616240   190.23   191.1799   189.63\n",
       "2    AAPL  07/13/2023     190.54  41342340   190.50     191.19   189.78\n",
       "3    AAPL  07-12-2023     189.77  60750250   189.68     191.70   188.47\n",
       "4    AAPL  07-11-2023     188.08  46638120   189.16     189.30   186.60"
      ]
     },
     "execution_count": 3,
     "metadata": {},
     "output_type": "execute_result"
    }
   ],
   "source": [
    "# Remove the $ sign from the columns \n",
    "stock_df = stock_df.replace({'\\$': ' '}, regex=True)\n",
    "\n",
    "# Review the changes \n",
    "stock_df.head(5)"
   ]
  },
  {
   "cell_type": "code",
   "execution_count": 4,
   "metadata": {},
   "outputs": [
    {
     "name": "stdout",
     "output_type": "stream",
     "text": [
      "<class 'pandas.core.frame.DataFrame'>\n",
      "RangeIndex: 25160 entries, 0 to 25159\n",
      "Data columns (total 7 columns):\n",
      " #   Column      Non-Null Count  Dtype \n",
      "---  ------      --------------  ----- \n",
      " 0   Company     25160 non-null  object\n",
      " 1   Date        25160 non-null  object\n",
      " 2   Close/Last  25160 non-null  object\n",
      " 3   Volume      25160 non-null  int64 \n",
      " 4   Open        25160 non-null  object\n",
      " 5   High        25160 non-null  object\n",
      " 6   Low         25160 non-null  object\n",
      "dtypes: int64(1), object(6)\n",
      "memory usage: 1.3+ MB\n"
     ]
    }
   ],
   "source": [
    "stock_df.info()"
   ]
  },
  {
   "cell_type": "code",
   "execution_count": 5,
   "metadata": {},
   "outputs": [
    {
     "name": "stdout",
     "output_type": "stream",
     "text": [
      "Company       0\n",
      "Date          0\n",
      "Close/Last    0\n",
      "Volume        0\n",
      "Open          0\n",
      "High          0\n",
      "Low           0\n",
      "dtype: int64\n"
     ]
    }
   ],
   "source": [
    "# Check for missing values\n",
    "null_counts = stock_df.isnull().sum()\n",
    "print(null_counts)"
   ]
  },
  {
   "cell_type": "code",
   "execution_count": 6,
   "metadata": {},
   "outputs": [
    {
     "name": "stdout",
     "output_type": "stream",
     "text": [
      "['AAPL' 'SBUX' 'MSFT' 'CSCO' 'QCOM' 'META' 'AMZN' 'TSLA' 'AMD' 'NFLX']\n"
     ]
    }
   ],
   "source": [
    "# List the names of the stocks contained in the df\n",
    "unique_companies = stock_df['Company'].unique()\n",
    "print(unique_companies)"
   ]
  }
 ],
 "metadata": {
  "kernelspec": {
   "display_name": "base",
   "language": "python",
   "name": "python3"
  },
  "language_info": {
   "codemirror_mode": {
    "name": "ipython",
    "version": 3
   },
   "file_extension": ".py",
   "mimetype": "text/x-python",
   "name": "python",
   "nbconvert_exporter": "python",
   "pygments_lexer": "ipython3",
   "version": "3.10.9"
  },
  "orig_nbformat": 4
 },
 "nbformat": 4,
 "nbformat_minor": 2
}
